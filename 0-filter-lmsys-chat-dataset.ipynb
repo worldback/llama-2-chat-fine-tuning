{
 "cells": [
  {
   "cell_type": "code",
   "execution_count": 42,
   "outputs": [],
   "source": [
    "import datasets\n",
    "import numpy as np\n",
    "from collections import Counter\n",
    "import tqdm"
   ],
   "metadata": {
    "collapsed": false,
    "ExecuteTime": {
     "end_time": "2024-06-28T02:43:51.839312600Z",
     "start_time": "2024-06-28T02:43:51.823183700Z"
    }
   }
  },
  {
   "cell_type": "code",
   "execution_count": 55,
   "outputs": [],
   "source": [
    "data = datasets.load_from_disk(\"lmsys_chat_englist_dataset\")\n",
    "#  lmsys_chat_englist_dataset  为lmsys/lmsys-chat-1m 过滤英文对话得到"
   ],
   "metadata": {
    "collapsed": false,
    "ExecuteTime": {
     "end_time": "2024-06-28T03:00:26.580189900Z",
     "start_time": "2024-06-28T03:00:26.393155800Z"
    }
   }
  },
  {
   "cell_type": "code",
   "execution_count": 56,
   "outputs": [
    {
     "data": {
      "text/plain": "'how can identity protection services help protect me against identity theft'"
     },
     "execution_count": 56,
     "metadata": {},
     "output_type": "execute_result"
    }
   ],
   "source": [
    "data['train'][0][\"conversation\"][0][\"content\"]"
   ],
   "metadata": {
    "collapsed": false,
    "ExecuteTime": {
     "end_time": "2024-06-28T03:00:28.383254200Z",
     "start_time": "2024-06-28T03:00:28.366664100Z"
    }
   }
  },
  {
   "cell_type": "code",
   "execution_count": 59,
   "outputs": [],
   "source": [
    "def filter_by_redacted(example, redacted=False):\n",
    "    return example[\"redacted\"] == redacted\n",
    "\n",
    "# 过滤数据集，只保留 redacted 列值为 False 的数据。 代表对话未被编辑、修改过\n",
    "filtered_redacted_dataset = data.filter(filter_by_redacted, fn_kwargs={\"redacted\": False})"
   ],
   "metadata": {
    "collapsed": false,
    "ExecuteTime": {
     "end_time": "2024-06-28T03:01:19.758326400Z",
     "start_time": "2024-06-28T03:01:19.743079400Z"
    }
   }
  },
  {
   "cell_type": "code",
   "execution_count": 60,
   "outputs": [
    {
     "data": {
      "text/plain": "511193"
     },
     "execution_count": 60,
     "metadata": {},
     "output_type": "execute_result"
    }
   ],
   "source": [
    "filtered_redacted_dataset['train'].num_rows"
   ],
   "metadata": {
    "collapsed": false,
    "ExecuteTime": {
     "end_time": "2024-06-28T03:01:28.861621900Z",
     "start_time": "2024-06-28T03:01:28.856595Z"
    }
   }
  },
  {
   "cell_type": "code",
   "execution_count": 62,
   "outputs": [],
   "source": [
    "def filter_by_redacted(example, length=2048):\n",
    "    return sum([ len(item[\"content\"])  for item in example[\"conversation\"]]) < length\n",
    "\n",
    "# 过滤数据集，只保留 redacted 列值为 False 的数据。 代表对话未被编辑、修改过\n",
    "filtered_len_dataset = filtered_redacted_dataset.filter(filter_by_redacted, fn_kwargs={\"length\": 2048})"
   ],
   "metadata": {
    "collapsed": false,
    "ExecuteTime": {
     "end_time": "2024-06-28T03:03:34.111785500Z",
     "start_time": "2024-06-28T03:03:34.086430500Z"
    }
   }
  },
  {
   "cell_type": "code",
   "execution_count": 67,
   "outputs": [
    {
     "data": {
      "text/plain": "387574"
     },
     "execution_count": 67,
     "metadata": {},
     "output_type": "execute_result"
    }
   ],
   "source": [
    "filtered_len_dataset['train'].num_rows"
   ],
   "metadata": {
    "collapsed": false,
    "ExecuteTime": {
     "end_time": "2024-06-28T03:15:14.189133900Z",
     "start_time": "2024-06-28T03:15:14.174353300Z"
    }
   }
  },
  {
   "cell_type": "code",
   "execution_count": 64,
   "outputs": [
    {
     "name": "stderr",
     "output_type": "stream",
     "text": [
      "100%|██████████| 387574/387574 [01:37<00:00, 3966.32it/s]"
     ]
    },
    {
     "name": "stdout",
     "output_type": "stream",
     "text": [
      "Average dialogue length = 2\n"
     ]
    },
    {
     "name": "stderr",
     "output_type": "stream",
     "text": [
      "\n"
     ]
    }
   ],
   "source": [
    "dialogue_lengths = []\n",
    "\n",
    "for dialogue in tqdm.tqdm(filtered_len_dataset['train']):\n",
    "    # print(dialogue)\n",
    "    dialogue_lengths.append(len(dialogue['conversation']))\n",
    "\n",
    "mean_dialogue_len = np.mean(dialogue_lengths)\n",
    "print(f'Average dialogue length = {int(mean_dialogue_len)}')"
   ],
   "metadata": {
    "collapsed": false,
    "ExecuteTime": {
     "end_time": "2024-06-28T03:05:29.573945300Z",
     "start_time": "2024-06-28T03:03:51.821179700Z"
    }
   }
  },
  {
   "cell_type": "code",
   "execution_count": 65,
   "outputs": [],
   "source": [
    "# 使用Counter统计每个数字出现的次数\n",
    "counts = Counter(dialogue_lengths)"
   ],
   "metadata": {
    "collapsed": false,
    "ExecuteTime": {
     "end_time": "2024-06-28T03:14:51.835125100Z",
     "start_time": "2024-06-28T03:14:51.808530100Z"
    }
   }
  },
  {
   "cell_type": "code",
   "execution_count": 66,
   "outputs": [
    {
     "data": {
      "text/plain": "Counter({2: 329714,\n         4: 38167,\n         6: 11560,\n         8: 4295,\n         10: 1863,\n         12: 842,\n         14: 438,\n         16: 271,\n         18: 146,\n         20: 88,\n         22: 50,\n         24: 32,\n         26: 21,\n         30: 21,\n         34: 13,\n         32: 13,\n         28: 11,\n         38: 5,\n         40: 4,\n         48: 4,\n         42: 3,\n         36: 3,\n         50: 3,\n         46: 2,\n         58: 1,\n         56: 1,\n         52: 1,\n         68: 1,\n         54: 1})"
     },
     "execution_count": 66,
     "metadata": {},
     "output_type": "execute_result"
    }
   ],
   "source": [
    "counts"
   ],
   "metadata": {
    "collapsed": false,
    "ExecuteTime": {
     "end_time": "2024-06-28T03:14:52.249235Z",
     "start_time": "2024-06-28T03:14:52.231967400Z"
    }
   }
  },
  {
   "cell_type": "code",
   "execution_count": 68,
   "outputs": [
    {
     "data": {
      "text/plain": "Saving the dataset (0/3 shards):   0%|          | 0/387574 [00:00<?, ? examples/s]",
      "application/vnd.jupyter.widget-view+json": {
       "version_major": 2,
       "version_minor": 0,
       "model_id": "91172936dd0f4819a0cc1c2defbc65e6"
      }
     },
     "metadata": {},
     "output_type": "display_data"
    }
   ],
   "source": [
    "filtered_len_dataset.save_to_disk(\"lmsys_chat_filter_dataset\")\n",
    "# 语言为英文，未被剪辑过，对话总字符长度 < 2048"
   ],
   "metadata": {
    "collapsed": false,
    "ExecuteTime": {
     "end_time": "2024-06-28T03:22:30.922561800Z",
     "start_time": "2024-06-28T03:22:24.242670500Z"
    }
   }
  },
  {
   "cell_type": "code",
   "execution_count": null,
   "outputs": [],
   "source": [],
   "metadata": {
    "collapsed": false
   }
  }
 ],
 "metadata": {
  "kernelspec": {
   "display_name": "Python 3",
   "language": "python",
   "name": "python3"
  },
  "language_info": {
   "codemirror_mode": {
    "name": "ipython",
    "version": 2
   },
   "file_extension": ".py",
   "mimetype": "text/x-python",
   "name": "python",
   "nbconvert_exporter": "python",
   "pygments_lexer": "ipython2",
   "version": "2.7.6"
  }
 },
 "nbformat": 4,
 "nbformat_minor": 0
}
