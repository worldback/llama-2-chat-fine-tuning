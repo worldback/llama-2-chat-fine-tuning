{
 "cells": [
  {
   "cell_type": "code",
   "execution_count": 105,
   "metadata": {
    "collapsed": true,
    "ExecuteTime": {
     "end_time": "2024-06-28T06:42:26.610949600Z",
     "start_time": "2024-06-28T06:42:26.591201100Z"
    }
   },
   "outputs": [],
   "source": [
    "import datasets\n",
    "import tqdm\n",
    "import pandas as pd\n"
   ]
  },
  {
   "cell_type": "code",
   "execution_count": 92,
   "outputs": [],
   "source": [
    "ultrachat_data = datasets.load_from_disk(\"ultrachat_filter_dataset\")\n",
    "lmsys_data = datasets.load_from_disk(\"lmsys_chat_filter_dataset\")"
   ],
   "metadata": {
    "collapsed": false,
    "ExecuteTime": {
     "end_time": "2024-06-28T06:27:08.432380700Z",
     "start_time": "2024-06-28T06:27:08.361947200Z"
    }
   }
  },
  {
   "cell_type": "code",
   "execution_count": 93,
   "outputs": [
    {
     "data": {
      "text/plain": "(387574, 70313)"
     },
     "execution_count": 93,
     "metadata": {},
     "output_type": "execute_result"
    }
   ],
   "source": [
    "lmsys_data['train'].num_rows, ultrachat_data['train'].num_rows"
   ],
   "metadata": {
    "collapsed": false,
    "ExecuteTime": {
     "end_time": "2024-06-28T06:27:08.948133800Z",
     "start_time": "2024-06-28T06:27:08.942024100Z"
    }
   }
  },
  {
   "cell_type": "code",
   "execution_count": 94,
   "outputs": [],
   "source": [
    "ultrachat_data['train'] = ultrachat_data['train'].remove_columns(\"id\")"
   ],
   "metadata": {
    "collapsed": false,
    "ExecuteTime": {
     "end_time": "2024-06-28T06:27:09.926592900Z",
     "start_time": "2024-06-28T06:27:09.920496900Z"
    }
   }
  },
  {
   "cell_type": "code",
   "execution_count": 95,
   "outputs": [
    {
     "name": "stderr",
     "output_type": "stream",
     "text": [
      "100%|██████████| 387574/387574 [01:24<00:00, 4576.03it/s]\n"
     ]
    }
   ],
   "source": [
    "new_item = []\n",
    "for item in tqdm.tqdm(lmsys_data['train']):\n",
    "    conversation = []\n",
    "    for conv in item[\"conversation\"]:\n",
    "        conversation.append(conv[\"content\"])\n",
    "    new_item.append({\"data\": conversation})\n"
   ],
   "metadata": {
    "collapsed": false,
    "ExecuteTime": {
     "end_time": "2024-06-28T06:28:37.256721600Z",
     "start_time": "2024-06-28T06:27:12.552812400Z"
    }
   }
  },
  {
   "cell_type": "code",
   "execution_count": 113,
   "outputs": [
    {
     "data": {
      "text/plain": "                                                    data\n0      [What percentage of the Earth's surface is cov...\n1      [What is your favorite Reality TV show, and wh...\n2      [Can tsunamis occur in any ocean, or only cert...\n3      [How much of the world's fish supply comes fro...\n4      [Do you like to customize your burgers with di...\n...                                                  ...\n70308  [Within the snare of narrow fingers– A coerciv...\n70309  [Educational & Interactive Kids Tees. 60% Cott...\n70310  [Given the text: Win, lose or draw, my whateve...\n70311  [Can you provide me with the latest Degree Pla...\n70312  [Are you a local artist looking for a space to...\n\n[70313 rows x 1 columns]",
      "text/html": "<div>\n<style scoped>\n    .dataframe tbody tr th:only-of-type {\n        vertical-align: middle;\n    }\n\n    .dataframe tbody tr th {\n        vertical-align: top;\n    }\n\n    .dataframe thead th {\n        text-align: right;\n    }\n</style>\n<table border=\"1\" class=\"dataframe\">\n  <thead>\n    <tr style=\"text-align: right;\">\n      <th></th>\n      <th>data</th>\n    </tr>\n  </thead>\n  <tbody>\n    <tr>\n      <th>0</th>\n      <td>[What percentage of the Earth's surface is cov...</td>\n    </tr>\n    <tr>\n      <th>1</th>\n      <td>[What is your favorite Reality TV show, and wh...</td>\n    </tr>\n    <tr>\n      <th>2</th>\n      <td>[Can tsunamis occur in any ocean, or only cert...</td>\n    </tr>\n    <tr>\n      <th>3</th>\n      <td>[How much of the world's fish supply comes fro...</td>\n    </tr>\n    <tr>\n      <th>4</th>\n      <td>[Do you like to customize your burgers with di...</td>\n    </tr>\n    <tr>\n      <th>...</th>\n      <td>...</td>\n    </tr>\n    <tr>\n      <th>70308</th>\n      <td>[Within the snare of narrow fingers– A coerciv...</td>\n    </tr>\n    <tr>\n      <th>70309</th>\n      <td>[Educational &amp; Interactive Kids Tees. 60% Cott...</td>\n    </tr>\n    <tr>\n      <th>70310</th>\n      <td>[Given the text: Win, lose or draw, my whateve...</td>\n    </tr>\n    <tr>\n      <th>70311</th>\n      <td>[Can you provide me with the latest Degree Pla...</td>\n    </tr>\n    <tr>\n      <th>70312</th>\n      <td>[Are you a local artist looking for a space to...</td>\n    </tr>\n  </tbody>\n</table>\n<p>70313 rows × 1 columns</p>\n</div>"
     },
     "execution_count": 113,
     "metadata": {},
     "output_type": "execute_result"
    }
   ],
   "source": [
    "ultrachat_data_df = pd.DataFrame(ultrachat_data['train'])\n",
    "ultrachat_data_df"
   ],
   "metadata": {
    "collapsed": false,
    "ExecuteTime": {
     "end_time": "2024-06-28T06:44:37.561190600Z",
     "start_time": "2024-06-28T06:44:35.552797200Z"
    }
   }
  },
  {
   "cell_type": "code",
   "execution_count": 115,
   "outputs": [
    {
     "data": {
      "text/plain": "                                                     data\n0       [how can identity protection services help pro...\n1       [You are the text completion model and you mus...\n2       [The sum of the perimeters of three equal squa...\n3       [What is the type of the variables in the foll...\n4       [I have 1000 documents to download from a webs...\n...                                                   ...\n387569  [best algorithm for code pattern recognition, ...\n387570  [You will be provided with text delimited by t...\n387571  [What is the MPAA rating for \"Kindergarten Cop...\n387572  [Scrivi hello world in python, Here is a simpl...\n387573  [can you help me format the following list of ...\n\n[387574 rows x 1 columns]",
      "text/html": "<div>\n<style scoped>\n    .dataframe tbody tr th:only-of-type {\n        vertical-align: middle;\n    }\n\n    .dataframe tbody tr th {\n        vertical-align: top;\n    }\n\n    .dataframe thead th {\n        text-align: right;\n    }\n</style>\n<table border=\"1\" class=\"dataframe\">\n  <thead>\n    <tr style=\"text-align: right;\">\n      <th></th>\n      <th>data</th>\n    </tr>\n  </thead>\n  <tbody>\n    <tr>\n      <th>0</th>\n      <td>[how can identity protection services help pro...</td>\n    </tr>\n    <tr>\n      <th>1</th>\n      <td>[You are the text completion model and you mus...</td>\n    </tr>\n    <tr>\n      <th>2</th>\n      <td>[The sum of the perimeters of three equal squa...</td>\n    </tr>\n    <tr>\n      <th>3</th>\n      <td>[What is the type of the variables in the foll...</td>\n    </tr>\n    <tr>\n      <th>4</th>\n      <td>[I have 1000 documents to download from a webs...</td>\n    </tr>\n    <tr>\n      <th>...</th>\n      <td>...</td>\n    </tr>\n    <tr>\n      <th>387569</th>\n      <td>[best algorithm for code pattern recognition, ...</td>\n    </tr>\n    <tr>\n      <th>387570</th>\n      <td>[You will be provided with text delimited by t...</td>\n    </tr>\n    <tr>\n      <th>387571</th>\n      <td>[What is the MPAA rating for \"Kindergarten Cop...</td>\n    </tr>\n    <tr>\n      <th>387572</th>\n      <td>[Scrivi hello world in python, Here is a simpl...</td>\n    </tr>\n    <tr>\n      <th>387573</th>\n      <td>[can you help me format the following list of ...</td>\n    </tr>\n  </tbody>\n</table>\n<p>387574 rows × 1 columns</p>\n</div>"
     },
     "execution_count": 115,
     "metadata": {},
     "output_type": "execute_result"
    }
   ],
   "source": [
    "lmsys_df = pd.DataFrame(new_item)\n",
    "lmsys_df"
   ],
   "metadata": {
    "collapsed": false,
    "ExecuteTime": {
     "end_time": "2024-06-28T06:45:12.573034500Z",
     "start_time": "2024-06-28T06:45:12.413021800Z"
    }
   }
  },
  {
   "cell_type": "code",
   "execution_count": 116,
   "outputs": [],
   "source": [
    "new_data_df = pd.concat([ultrachat_data_df, lmsys_df], ignore_index=True)"
   ],
   "metadata": {
    "collapsed": false,
    "ExecuteTime": {
     "end_time": "2024-06-28T06:45:25.731711500Z",
     "start_time": "2024-06-28T06:45:25.720563100Z"
    }
   }
  },
  {
   "cell_type": "code",
   "execution_count": 117,
   "outputs": [
    {
     "data": {
      "text/plain": "457887"
     },
     "execution_count": 117,
     "metadata": {},
     "output_type": "execute_result"
    }
   ],
   "source": [
    "len(new_data_df)"
   ],
   "metadata": {
    "collapsed": false,
    "ExecuteTime": {
     "end_time": "2024-06-28T06:45:30.055102400Z",
     "start_time": "2024-06-28T06:45:30.032396600Z"
    }
   }
  },
  {
   "cell_type": "code",
   "execution_count": 118,
   "outputs": [],
   "source": [
    "data_dict = {column: new_data_df[column].tolist() for column in new_data_df.columns}"
   ],
   "metadata": {
    "collapsed": false,
    "ExecuteTime": {
     "end_time": "2024-06-28T06:45:36.105281900Z",
     "start_time": "2024-06-28T06:45:36.091585100Z"
    }
   }
  },
  {
   "cell_type": "code",
   "execution_count": 121,
   "outputs": [],
   "source": [
    "merge_dataset = datasets.Dataset.from_dict(data_dict)"
   ],
   "metadata": {
    "collapsed": false,
    "ExecuteTime": {
     "end_time": "2024-06-28T06:46:38.434337700Z",
     "start_time": "2024-06-28T06:46:35.967874700Z"
    }
   }
  },
  {
   "cell_type": "code",
   "execution_count": 136,
   "outputs": [
    {
     "data": {
      "text/plain": "Dataset({\n    features: ['data'],\n    num_rows: 457887\n})"
     },
     "execution_count": 136,
     "metadata": {},
     "output_type": "execute_result"
    }
   ],
   "source": [
    "merge_dataset"
   ],
   "metadata": {
    "collapsed": false,
    "ExecuteTime": {
     "end_time": "2024-06-28T06:50:24.544767700Z",
     "start_time": "2024-06-28T06:50:24.533324500Z"
    }
   }
  },
  {
   "cell_type": "code",
   "execution_count": 138,
   "outputs": [
    {
     "data": {
      "text/plain": "Saving the dataset (0/1 shards):   0%|          | 0/457887 [00:00<?, ? examples/s]",
      "application/vnd.jupyter.widget-view+json": {
       "version_major": 2,
       "version_minor": 0,
       "model_id": "6451e360c26d4a089fe3d84dc1889b9f"
      }
     },
     "metadata": {},
     "output_type": "display_data"
    }
   ],
   "source": [
    "merge_dataset.save_to_disk(\"merge\")"
   ],
   "metadata": {
    "collapsed": false,
    "ExecuteTime": {
     "end_time": "2024-06-28T06:53:19.260971200Z",
     "start_time": "2024-06-28T06:53:19.033574300Z"
    }
   }
  },
  {
   "cell_type": "code",
   "execution_count": null,
   "outputs": [],
   "source": [],
   "metadata": {
    "collapsed": false
   }
  }
 ],
 "metadata": {
  "kernelspec": {
   "display_name": "Python 3",
   "language": "python",
   "name": "python3"
  },
  "language_info": {
   "codemirror_mode": {
    "name": "ipython",
    "version": 2
   },
   "file_extension": ".py",
   "mimetype": "text/x-python",
   "name": "python",
   "nbconvert_exporter": "python",
   "pygments_lexer": "ipython2",
   "version": "2.7.6"
  }
 },
 "nbformat": 4,
 "nbformat_minor": 0
}
