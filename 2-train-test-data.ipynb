{
 "cells": [
  {
   "cell_type": "code",
   "execution_count": 77,
   "metadata": {
    "collapsed": true,
    "ExecuteTime": {
     "end_time": "2024-07-02T03:00:57.547354600Z",
     "start_time": "2024-07-02T03:00:57.518057100Z"
    }
   },
   "outputs": [],
   "source": [
    "import datasets\n",
    "import tqdm\n",
    "import random\n",
    "from transformers import AutoTokenizer\n",
    "import pandas as pd\n",
    "from datasets import Dataset\n",
    "import torch\n",
    "torch.set_printoptions(threshold=10000)"
   ]
  },
  {
   "cell_type": "code",
   "execution_count": 31,
   "outputs": [
    {
     "data": {
      "text/plain": "Dataset({\n    features: ['data'],\n    num_rows: 457887\n})"
     },
     "execution_count": 31,
     "metadata": {},
     "output_type": "execute_result"
    }
   ],
   "source": [
    "data = datasets.load_from_disk(\"merge\")\n",
    "shuffle_data = data.shuffle()\n",
    "shuffle_data"
   ],
   "metadata": {
    "collapsed": false,
    "ExecuteTime": {
     "end_time": "2024-07-02T02:15:15.927636800Z",
     "start_time": "2024-07-02T02:15:15.798199500Z"
    }
   }
  },
  {
   "cell_type": "code",
   "execution_count": 32,
   "outputs": [
    {
     "data": {
      "text/plain": "Filter:   0%|          | 0/457887 [00:00<?, ? examples/s]",
      "application/vnd.jupyter.widget-view+json": {
       "version_major": 2,
       "version_minor": 0,
       "model_id": "fa3a50dff8c94d2bb12e1ddf47eaa51f"
      }
     },
     "metadata": {},
     "output_type": "display_data"
    },
    {
     "data": {
      "text/plain": "Dataset({\n    features: ['data'],\n    num_rows: 255735\n})"
     },
     "execution_count": 32,
     "metadata": {},
     "output_type": "execute_result"
    }
   ],
   "source": [
    "def filter_data(sample):\n",
    "    turns = len(sample['data'])\n",
    "    prompt_len = sum(len(s) for s in sample['data'])\n",
    "    if prompt_len > 500 and prompt_len < 4090:\n",
    "        if turns < 6:\n",
    "            if random.random() < 0.8 :\n",
    "                return True\n",
    "            else:\n",
    "                return False\n",
    "        else:\n",
    "            return True\n",
    "    else:\n",
    "        return False\n",
    "# 应用过滤器\n",
    "filtered_data = shuffle_data.filter(filter_data)\n",
    "filtered_data"
   ],
   "metadata": {
    "collapsed": false,
    "ExecuteTime": {
     "end_time": "2024-07-02T02:15:22.733936800Z",
     "start_time": "2024-07-02T02:15:16.443992700Z"
    }
   }
  },
  {
   "cell_type": "code",
   "execution_count": 33,
   "outputs": [],
   "source": [
    "system_msg = \"\"\"\n",
    "You are a helpful, respectful and honest assistant. Always answer as helpfully as possible, while being safe.\n",
    "Your answers should not include any harmful, unethical, racist, sexist, toxic, dangerous, or illegal content. Please ensure that your responses are socially unbiased and positive in nature.\n",
    "\n",
    "If a question does not make any sense, or is not factually coherent, explain why instead of answering something not correct. If you don't know the answer to a question, please don't share false information.\\n\"\"\"\n",
    "tokenizer = AutoTokenizer.from_pretrained(\"meta-llama/Llama-2-7b-hf\")\n",
    "# tokenizer.add_special_tokens({'pad_token':'[PAD]'})"
   ],
   "metadata": {
    "collapsed": false,
    "ExecuteTime": {
     "end_time": "2024-07-02T02:15:32.847502400Z",
     "start_time": "2024-07-02T02:15:22.732928500Z"
    }
   }
  },
  {
   "cell_type": "code",
   "execution_count": 34,
   "outputs": [],
   "source": [
    "chat = []\n",
    "for item in filtered_data:\n",
    "    conv = [  {\"role\": \"system\", \"content\": system_msg }]\n",
    "    for idx, msg in enumerate(item[\"data\"]):\n",
    "        if idx % 2 ==0:\n",
    "            conv.append({\"role\": \"user\", \"content\": msg})\n",
    "        else:\n",
    "            conv.append({\"role\": \"assistant\", \"content\": msg})\n",
    "    chat.append(conv)"
   ],
   "metadata": {
    "collapsed": false,
    "ExecuteTime": {
     "end_time": "2024-07-02T02:15:48.054204200Z",
     "start_time": "2024-07-02T02:15:32.847502400Z"
    }
   }
  },
  {
   "cell_type": "code",
   "execution_count": 43,
   "outputs": [],
   "source": [
    "chat_tokens = tokenizer.apply_chat_template(chat, tokenize=True)"
   ],
   "metadata": {
    "collapsed": false,
    "ExecuteTime": {
     "end_time": "2024-07-02T02:20:41.165418900Z",
     "start_time": "2024-07-02T02:17:37.643204800Z"
    }
   }
  },
  {
   "cell_type": "code",
   "execution_count": 49,
   "outputs": [
    {
     "data": {
      "text/plain": "477"
     },
     "execution_count": 49,
     "metadata": {},
     "output_type": "execute_result"
    }
   ],
   "source": [
    "len(chat_tokens[0])"
   ],
   "metadata": {
    "collapsed": false,
    "ExecuteTime": {
     "end_time": "2024-07-02T02:22:19.660017200Z",
     "start_time": "2024-07-02T02:22:19.660017200Z"
    }
   }
  },
  {
   "cell_type": "code",
   "execution_count": 50,
   "outputs": [
    {
     "data": {
      "text/plain": "\"<s> [INST] <<SYS>>\\n\\nYou are a helpful, respectful and honest assistant. Always answer as helpfully as possible, while being safe.\\nYour answers should not include any harmful, unethical, racist, sexist, toxic, dangerous, or illegal content. Please ensure that your responses are socially unbiased and positive in nature.\\n\\nIf a question does not make any sense, or is not factually coherent, explain why instead of answering something not correct. If you don't know the answer to a question, please don't share false information.\\n\\n<</SYS>>\\n\\nGiven the text: Pay a deposit online now to confirm your spot for summer camps!\\n10% sibling discount available - please contact the ITW office after registering to confirm siblings’ names.\\nDeposits are non refundable and only transferrable to another holiday course if notice received more than a week in advance of camp start date and if there is space in the camp you wish to move to. Balances of fees are due on or before the first day of camp, please ring us with a debit card on 01 260 0831 or 01 219 6842.\\nIn the case of a course not running due to cancellation by ITW a full refund will be made.\\nWhat should I do if a course is cancelled by ITW? Will I receive a full refund for the deposit I paid? [/INST] If a course is cancelled by ITW, you will receive a full refund for the deposit you paid. </s><s> [INST] Thanks for letting me know that I will receive a full refund if a course is cancelled by ITW. Can you please provide me with the contact details to get in touch with the ITW office for the sibling discount? [/INST] Sure, to confirm siblings’ names and avail the 10% sibling discount, you can contact the ITW office at the following numbers: 01 260 0831 or 01 219 6842. </s>\""
     },
     "execution_count": 50,
     "metadata": {},
     "output_type": "execute_result"
    }
   ],
   "source": [
    "tokenizer.decode(chat_tokens[0])"
   ],
   "metadata": {
    "collapsed": false,
    "ExecuteTime": {
     "end_time": "2024-07-02T02:22:57.165701700Z",
     "start_time": "2024-07-02T02:22:57.152224200Z"
    }
   }
  },
  {
   "cell_type": "code",
   "execution_count": 51,
   "outputs": [
    {
     "data": {
      "text/plain": "[{'role': 'system',\n  'content': \"\\nYou are a helpful, respectful and honest assistant. Always answer as helpfully as possible, while being safe.\\nYour answers should not include any harmful, unethical, racist, sexist, toxic, dangerous, or illegal content. Please ensure that your responses are socially unbiased and positive in nature.\\n\\nIf a question does not make any sense, or is not factually coherent, explain why instead of answering something not correct. If you don't know the answer to a question, please don't share false information.\\n\"},\n {'role': 'user',\n  'content': 'Given the text: Pay a deposit online now to confirm your spot for summer camps!\\n10% sibling discount available - please contact the ITW office after registering to confirm siblings’ names.\\nDeposits are non refundable and only transferrable to another holiday course if notice received more than a week in advance of camp start date and if there is space in the camp you wish to move to. Balances of fees are due on or before the first day of camp, please ring us with a debit card on 01 260 0831 or 01 219 6842.\\nIn the case of a course not running due to cancellation by ITW a full refund will be made.\\nWhat should I do if a course is cancelled by ITW? Will I receive a full refund for the deposit I paid?'},\n {'role': 'assistant',\n  'content': 'If a course is cancelled by ITW, you will receive a full refund for the deposit you paid.'},\n {'role': 'user',\n  'content': 'Thanks for letting me know that I will receive a full refund if a course is cancelled by ITW. Can you please provide me with the contact details to get in touch with the ITW office for the sibling discount?'},\n {'role': 'assistant',\n  'content': 'Sure, to confirm siblings’ names and avail the 10% sibling discount, you can contact the ITW office at the following numbers: 01 260 0831 or 01 219 6842.'}]"
     },
     "execution_count": 51,
     "metadata": {},
     "output_type": "execute_result"
    }
   ],
   "source": [
    "chat[0]"
   ],
   "metadata": {
    "collapsed": false,
    "ExecuteTime": {
     "end_time": "2024-07-02T02:23:11.674926Z",
     "start_time": "2024-07-02T02:23:11.664330300Z"
    }
   }
  },
  {
   "cell_type": "code",
   "execution_count": 54,
   "outputs": [],
   "source": [
    "filter_length_idx = []\n",
    "for idx, item in enumerate(chat_tokens):\n",
    "    if len(item) < 1024:\n",
    "        filter_length_idx.append(idx)"
   ],
   "metadata": {
    "collapsed": false,
    "ExecuteTime": {
     "end_time": "2024-07-02T02:30:19.544733800Z",
     "start_time": "2024-07-02T02:30:19.476892600Z"
    }
   }
  },
  {
   "cell_type": "code",
   "execution_count": 56,
   "outputs": [
    {
     "data": {
      "text/plain": "255147"
     },
     "execution_count": 56,
     "metadata": {},
     "output_type": "execute_result"
    }
   ],
   "source": [
    "len(filter_length_idx)"
   ],
   "metadata": {
    "collapsed": false,
    "ExecuteTime": {
     "end_time": "2024-07-02T02:30:29.632088100Z",
     "start_time": "2024-07-02T02:30:29.625715500Z"
    }
   }
  },
  {
   "cell_type": "code",
   "execution_count": 68,
   "outputs": [],
   "source": [
    "select_chat = []\n",
    "for i in filter_length_idx:\n",
    "    select_chat.append(chat[i])"
   ],
   "metadata": {
    "collapsed": false,
    "ExecuteTime": {
     "end_time": "2024-07-02T02:58:04.071410800Z",
     "start_time": "2024-07-02T02:58:03.967463100Z"
    }
   }
  },
  {
   "cell_type": "code",
   "execution_count": 73,
   "outputs": [],
   "source": [
    "select_chat_format = tokenizer.apply_chat_template(select_chat, tokenize=False)"
   ],
   "metadata": {
    "collapsed": false,
    "ExecuteTime": {
     "end_time": "2024-07-02T02:59:48.936088Z",
     "start_time": "2024-07-02T02:59:34.041421Z"
    }
   }
  },
  {
   "cell_type": "code",
   "execution_count": 78,
   "outputs": [
    {
     "data": {
      "text/plain": "\"<s>[INST] <<SYS>>\\n\\nYou are a helpful, respectful and honest assistant. Always answer as helpfully as possible, while being safe.\\nYour answers should not include any harmful, unethical, racist, sexist, toxic, dangerous, or illegal content. Please ensure that your responses are socially unbiased and positive in nature.\\n\\nIf a question does not make any sense, or is not factually coherent, explain why instead of answering something not correct. If you don't know the answer to a question, please don't share false information.\\n\\n<</SYS>>\\n\\nGiven the text: Pay a deposit online now to confirm your spot for summer camps!\\n10% sibling discount available - please contact the ITW office after registering to confirm siblings’ names.\\nDeposits are non refundable and only transferrable to another holiday course if notice received more than a week in advance of camp start date and if there is space in the camp you wish to move to. Balances of fees are due on or before the first day of camp, please ring us with a debit card on 01 260 0831 or 01 219 6842.\\nIn the case of a course not running due to cancellation by ITW a full refund will be made.\\nWhat should I do if a course is cancelled by ITW? Will I receive a full refund for the deposit I paid? [/INST] If a course is cancelled by ITW, you will receive a full refund for the deposit you paid. </s><s>[INST] Thanks for letting me know that I will receive a full refund if a course is cancelled by ITW. Can you please provide me with the contact details to get in touch with the ITW office for the sibling discount? [/INST] Sure, to confirm siblings’ names and avail the 10% sibling discount, you can contact the ITW office at the following numbers: 01 260 0831 or 01 219 6842. </s>\""
     },
     "execution_count": 78,
     "metadata": {},
     "output_type": "execute_result"
    }
   ],
   "source": [
    "select_chat_format[0]"
   ],
   "metadata": {
    "collapsed": false,
    "ExecuteTime": {
     "end_time": "2024-07-02T05:55:06.300786300Z",
     "start_time": "2024-07-02T05:55:06.281377200Z"
    }
   }
  },
  {
   "cell_type": "code",
   "execution_count": 59,
   "outputs": [],
   "source": [
    "from trl import DataCollatorForCompletionOnlyLM\n",
    "from datasets import Dataset"
   ],
   "metadata": {
    "collapsed": false,
    "ExecuteTime": {
     "end_time": "2024-07-02T02:35:35.322760300Z",
     "start_time": "2024-07-02T02:35:35.300090600Z"
    }
   }
  },
  {
   "cell_type": "code",
   "execution_count": 79,
   "outputs": [],
   "source": [
    "df = pd.DataFrame(select_chat_format, columns=[\"convs\"])"
   ],
   "metadata": {
    "collapsed": false,
    "ExecuteTime": {
     "end_time": "2024-07-02T05:56:41.148447700Z",
     "start_time": "2024-07-02T05:56:41.087404Z"
    }
   }
  },
  {
   "cell_type": "code",
   "execution_count": 80,
   "outputs": [],
   "source": [
    "instru_data = Dataset.from_pandas(df)"
   ],
   "metadata": {
    "collapsed": false,
    "ExecuteTime": {
     "end_time": "2024-07-02T05:57:33.624881100Z",
     "start_time": "2024-07-02T05:57:31.599793300Z"
    }
   }
  },
  {
   "cell_type": "code",
   "execution_count": 82,
   "outputs": [],
   "source": [
    "train_test_split =instru_data.train_test_split(test_size=0.2)"
   ],
   "metadata": {
    "collapsed": false,
    "ExecuteTime": {
     "end_time": "2024-07-02T05:57:56.753929200Z",
     "start_time": "2024-07-02T05:57:56.522306300Z"
    }
   }
  },
  {
   "cell_type": "code",
   "execution_count": 83,
   "outputs": [
    {
     "data": {
      "text/plain": "DatasetDict({\n    train: Dataset({\n        features: ['convs'],\n        num_rows: 204117\n    })\n    test: Dataset({\n        features: ['convs'],\n        num_rows: 51030\n    })\n})"
     },
     "execution_count": 83,
     "metadata": {},
     "output_type": "execute_result"
    }
   ],
   "source": [
    "train_test_split"
   ],
   "metadata": {
    "collapsed": false,
    "ExecuteTime": {
     "end_time": "2024-07-02T05:58:06.367298700Z",
     "start_time": "2024-07-02T05:58:06.359069200Z"
    }
   }
  },
  {
   "cell_type": "code",
   "execution_count": 84,
   "outputs": [
    {
     "data": {
      "text/plain": "Saving the dataset (0/1 shards):   0%|          | 0/204117 [00:00<?, ? examples/s]",
      "application/vnd.jupyter.widget-view+json": {
       "version_major": 2,
       "version_minor": 0,
       "model_id": "18a7108d291448968b8b529389f15e8a"
      }
     },
     "metadata": {},
     "output_type": "display_data"
    },
    {
     "data": {
      "text/plain": "Saving the dataset (0/1 shards):   0%|          | 0/51030 [00:00<?, ? examples/s]",
      "application/vnd.jupyter.widget-view+json": {
       "version_major": 2,
       "version_minor": 0,
       "model_id": "3da304ad7869438a9ba99e56f9fc715a"
      }
     },
     "metadata": {},
     "output_type": "display_data"
    }
   ],
   "source": [
    "train_test_split.save_to_disk(\"train_and_test\")"
   ],
   "metadata": {
    "collapsed": false,
    "ExecuteTime": {
     "end_time": "2024-07-02T05:58:39.657479100Z",
     "start_time": "2024-07-02T05:58:38.758709500Z"
    }
   }
  },
  {
   "cell_type": "code",
   "execution_count": 86,
   "outputs": [
    {
     "data": {
      "text/plain": "Saving the dataset (0/1 shards):   0%|          | 0/204117 [00:00<?, ? examples/s]",
      "application/vnd.jupyter.widget-view+json": {
       "version_major": 2,
       "version_minor": 0,
       "model_id": "405ee335aec94bdeb344a26d085acb87"
      }
     },
     "metadata": {},
     "output_type": "display_data"
    }
   ],
   "source": [
    "train_test_split['train'].save_to_disk(\"train\")"
   ],
   "metadata": {
    "collapsed": false,
    "ExecuteTime": {
     "end_time": "2024-07-02T06:53:09.008298800Z",
     "start_time": "2024-07-02T06:53:08.219520800Z"
    }
   }
  },
  {
   "cell_type": "code",
   "execution_count": 87,
   "outputs": [
    {
     "data": {
      "text/plain": "Saving the dataset (0/1 shards):   0%|          | 0/51030 [00:00<?, ? examples/s]",
      "application/vnd.jupyter.widget-view+json": {
       "version_major": 2,
       "version_minor": 0,
       "model_id": "a8155ae5968c4b799f7b8b27e5bdbfff"
      }
     },
     "metadata": {},
     "output_type": "display_data"
    }
   ],
   "source": [
    "train_test_split['test'].save_to_disk(\"test\")"
   ],
   "metadata": {
    "collapsed": false,
    "ExecuteTime": {
     "end_time": "2024-07-02T06:53:20.594187300Z",
     "start_time": "2024-07-02T06:53:20.392127800Z"
    }
   }
  },
  {
   "cell_type": "code",
   "execution_count": null,
   "outputs": [],
   "source": [],
   "metadata": {
    "collapsed": false
   }
  }
 ],
 "metadata": {
  "kernelspec": {
   "display_name": "Python 3",
   "language": "python",
   "name": "python3"
  },
  "language_info": {
   "codemirror_mode": {
    "name": "ipython",
    "version": 2
   },
   "file_extension": ".py",
   "mimetype": "text/x-python",
   "name": "python",
   "nbconvert_exporter": "python",
   "pygments_lexer": "ipython2",
   "version": "2.7.6"
  }
 },
 "nbformat": 4,
 "nbformat_minor": 0
}
